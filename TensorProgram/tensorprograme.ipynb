{
 "cells": [
  {
   "cell_type": "code",
   "execution_count": 41,
   "metadata": {},
   "outputs": [],
   "source": [
    "import numpy as np\n",
    "import tvm\n",
    "from tvm.ir.module import IRModule\n",
    "from tvm.script import tir as T\n",
    "import time"
   ]
  },
  {
   "cell_type": "code",
   "execution_count": 42,
   "metadata": {},
   "outputs": [],
   "source": [
    "@tvm.script.ir_module\n",
    "class MyModule:\n",
    "    @T.prim_func\n",
    "    def main(A: T.Buffer[128, \"float32\"],\n",
    "             B: T.Buffer[128, \"float32\"],\n",
    "             C: T.Buffer[128, \"float32\"]):\n",
    "        T.func_attr({\"global_symbol\": \"main\", \"tir.noalias\": True})\n",
    "        for i in range(128):\n",
    "            with T.block(\"C\"):\n",
    "                vi = T.axis.spatial(128, i)\n",
    "                C[vi] = A[vi] + B[vi]"
   ]
  },
  {
   "cell_type": "code",
   "execution_count": 43,
   "metadata": {},
   "outputs": [],
   "source": [
    "def add(a, b, c):\n",
    "    for i in range(128):\n",
    "        c[i] = a[i] + b[i]"
   ]
  },
  {
   "cell_type": "code",
   "execution_count": 44,
   "metadata": {},
   "outputs": [
    {
     "data": {
      "text/plain": [
       "#[version = \"0.0.5\"]\n",
       "@main = primfn(A_handle: handle, B_handle: handle, C_handle: handle) -> ()\n",
       "  attr = {\"tir.noalias\": True, \"global_symbol\": \"main\"}\n",
       "  buffers = {A: Buffer(A_1: Pointer(global float32), float32, [128], []),\n",
       "             B: Buffer(B_1: Pointer(global float32), float32, [128], []),\n",
       "             C: Buffer(C_1: Pointer(global float32), float32, [128], [])}\n",
       "  buffer_map = {A_handle: A, B_handle: B, C_handle: C} {\n",
       "  block([], \"root\") {\n",
       "    tir.reads([])\n",
       "    tir.writes([])\n",
       "    for (i: int32, 0, 128) {\n",
       "      block([128], \"C\") as [vi] {\n",
       "        bind(vi, i)\n",
       "        tir.reads([A[vi], B[vi]])\n",
       "        tir.writes([C[vi]])\n",
       "        C[vi] = (A[vi] + B[vi])\n",
       "    }\n",
       "}\n",
       "\n",
       "#[metadata]\n",
       "{\n",
       "  \"root\": 1, \n",
       "  \"nodes\": [\n",
       "    {\n",
       "      \"type_key\": \"\"\n",
       "    }, \n",
       "    {\n",
       "      \"type_key\": \"Map\", \n",
       "      \"keys\": [\n",
       "        \"IntImm\"\n",
       "      ], \n",
       "      \"data\": [2]\n",
       "    }, \n",
       "    {\n",
       "      \"type_key\": \"Array\", \n",
       "      \"data\": [3]\n",
       "    }, \n",
       "    {\n",
       "      \"type_key\": \"IntImm\", \n",
       "      \"attrs\": {\n",
       "        \"dtype\": \"bool\", \n",
       "        \"span\": \"0\", \n",
       "        \"value\": \"1\"\n",
       "      }\n",
       "    }\n",
       "  ], \n",
       "  \"b64ndarrays\": [], \n",
       "  \"attrs\": {\"tvm_version\": \"0.11.dev0\"}\n",
       "}"
      ]
     },
     "execution_count": 44,
     "metadata": {},
     "output_type": "execute_result"
    }
   ],
   "source": [
    "MyModule"
   ]
  },
  {
   "cell_type": "code",
   "execution_count": 45,
   "metadata": {},
   "outputs": [],
   "source": [
    "sch = tvm.tir.Schedule(MyModule)"
   ]
  },
  {
   "cell_type": "code",
   "execution_count": 46,
   "metadata": {},
   "outputs": [],
   "source": [
    "block_c = sch.get_block(\"C\")"
   ]
  },
  {
   "cell_type": "code",
   "execution_count": 47,
   "metadata": {},
   "outputs": [],
   "source": [
    "i, = sch.get_loops(block_c)"
   ]
  },
  {
   "cell_type": "code",
   "execution_count": 48,
   "metadata": {},
   "outputs": [],
   "source": [
    "i0, i1, i2 = sch.split(i, factors=[None, 2, 4])"
   ]
  },
  {
   "cell_type": "code",
   "execution_count": 49,
   "metadata": {},
   "outputs": [
    {
     "name": "stdout",
     "output_type": "stream",
     "text": [
      "# from tvm.script import tir as T\n",
      "@tvm.script.ir_module\n",
      "class Module:\n",
      "    @T.prim_func\n",
      "    def main(A: T.Buffer[128, \"float32\"], B: T.Buffer[128, \"float32\"], C: T.Buffer[128, \"float32\"]):\n",
      "        # function attr dict\n",
      "        T.func_attr({\"tir.noalias\": True, \"global_symbol\": \"main\"})\n",
      "        # body\n",
      "        # with T.block(\"root\")\n",
      "        for i_0, i_1, i_2 in T.grid(16, 2, 4):\n",
      "            with T.block(\"C\"):\n",
      "                vi = T.axis.spatial(128, i_0 * 8 + i_1 * 4 + i_2)\n",
      "                T.reads(A[vi], B[vi])\n",
      "                T.writes(C[vi])\n",
      "                C[vi] = A[vi] + B[vi]\n",
      "    \n",
      "\n"
     ]
    }
   ],
   "source": [
    "print(sch.mod.script())"
   ]
  },
  {
   "cell_type": "code",
   "execution_count": 50,
   "metadata": {},
   "outputs": [
    {
     "name": "stdout",
     "output_type": "stream",
     "text": [
      "# from tvm.script import tir as T\n",
      "@tvm.script.ir_module\n",
      "class Module:\n",
      "    @T.prim_func\n",
      "    def main(A: T.Buffer[128, \"float32\"], B: T.Buffer[128, \"float32\"], C: T.Buffer[128, \"float32\"]):\n",
      "        # function attr dict\n",
      "        T.func_attr({\"tir.noalias\": True, \"global_symbol\": \"main\"})\n",
      "        # body\n",
      "        # with T.block(\"root\")\n",
      "        for i_0, i_2, i_1 in T.grid(16, 4, 2):\n",
      "            with T.block(\"C\"):\n",
      "                vi = T.axis.spatial(128, i_0 * 8 + i_1 * 4 + i_2)\n",
      "                T.reads(A[vi], B[vi])\n",
      "                T.writes(C[vi])\n",
      "                C[vi] = A[vi] + B[vi]\n",
      "    \n",
      "\n"
     ]
    }
   ],
   "source": [
    "sch.reorder(i2, i1)\n",
    "print(sch.mod.script())"
   ]
  },
  {
   "cell_type": "code",
   "execution_count": 33,
   "metadata": {},
   "outputs": [
    {
     "name": "stdout",
     "output_type": "stream",
     "text": [
      "# from tvm.script import tir as T\n",
      "@tvm.script.ir_module\n",
      "class Module:\n",
      "    @T.prim_func\n",
      "    def main(A: T.Buffer[128, \"float32\"], B: T.Buffer[128, \"float32\"], C: T.Buffer[128, \"float32\"]):\n",
      "        # function attr dict\n",
      "        T.func_attr({\"tir.noalias\": True, \"global_symbol\": \"main\"})\n",
      "        # body\n",
      "        # with T.block(\"root\")\n",
      "        for i_0, i_2 in T.grid(8, 4):\n",
      "            for i_1 in T.parallel(4):\n",
      "                with T.block(\"C\"):\n",
      "                    vi = T.axis.spatial(128, i_0 * 16 + i_1 * 4 + i_2)\n",
      "                    T.reads(A[vi], B[vi])\n",
      "                    T.writes(C[vi])\n",
      "                    C[vi] = A[vi] + B[vi]\n",
      "    \n",
      "\n"
     ]
    }
   ],
   "source": [
    "sch.parallel(i1)\n",
    "print(sch.mod.script())"
   ]
  },
  {
   "cell_type": "code",
   "execution_count": 51,
   "metadata": {},
   "outputs": [],
   "source": [
    "rt_mod = tvm.build(sch.mod, \"llvm\", name=\"myadd\")"
   ]
  },
  {
   "cell_type": "code",
   "execution_count": 52,
   "metadata": {},
   "outputs": [
    {
     "data": {
      "text/plain": [
       "tvm.runtime.packed_func.PackedFunc"
      ]
     },
     "execution_count": 52,
     "metadata": {},
     "output_type": "execute_result"
    }
   ],
   "source": [
    "funct = rt_mod[\"main\"]\n",
    "type(funct)"
   ]
  },
  {
   "cell_type": "code",
   "execution_count": 53,
   "metadata": {},
   "outputs": [
    {
     "data": {
      "text/plain": [
       "tvm.runtime.ndarray.NDArray"
      ]
     },
     "execution_count": 53,
     "metadata": {},
     "output_type": "execute_result"
    }
   ],
   "source": [
    "a = tvm.nd.array(np.arange(128).astype(\"float32\"))\n",
    "b = tvm.nd.array(np.ones(128).astype(\"float32\"))\n",
    "c = tvm.nd.empty([128], \"float32\")\n",
    "type(a)\n"
   ]
  },
  {
   "cell_type": "code",
   "execution_count": 39,
   "metadata": {},
   "outputs": [
    {
     "name": "stdout",
     "output_type": "stream",
     "text": [
      "0.0036890506744384766\n"
     ]
    },
    {
     "data": {
      "text/plain": [
       "<tvm.nd.NDArray shape=(128,), cpu(0)>\n",
       "array([  1.,   2.,   3.,   4.,   5.,   6.,   7.,   8.,   9.,  10.,  11.,\n",
       "        12.,  13.,  14.,  15.,  16.,  17.,  18.,  19.,  20.,  21.,  22.,\n",
       "        23.,  24.,  25.,  26.,  27.,  28.,  29.,  30.,  31.,  32.,  33.,\n",
       "        34.,  35.,  36.,  37.,  38.,  39.,  40.,  41.,  42.,  43.,  44.,\n",
       "        45.,  46.,  47.,  48.,  49.,  50.,  51.,  52.,  53.,  54.,  55.,\n",
       "        56.,  57.,  58.,  59.,  60.,  61.,  62.,  63.,  64.,  65.,  66.,\n",
       "        67.,  68.,  69.,  70.,  71.,  72.,  73.,  74.,  75.,  76.,  77.,\n",
       "        78.,  79.,  80.,  81.,  82.,  83.,  84.,  85.,  86.,  87.,  88.,\n",
       "        89.,  90.,  91.,  92.,  93.,  94.,  95.,  96.,  97.,  98.,  99.,\n",
       "       100., 101., 102., 103., 104., 105., 106., 107., 108., 109., 110.,\n",
       "       111., 112., 113., 114., 115., 116., 117., 118., 119., 120., 121.,\n",
       "       122., 123., 124., 125., 126., 127., 128.], dtype=float32)"
      ]
     },
     "execution_count": 39,
     "metadata": {},
     "output_type": "execute_result"
    }
   ],
   "source": [
    "time1 = time.time()\n",
    "funct(a, b, c)\n",
    "time2 = time.time()\n",
    "print(time2 - time1)\n",
    "c"
   ]
  },
  {
   "cell_type": "code",
   "execution_count": 40,
   "metadata": {},
   "outputs": [
    {
     "data": {
      "text/plain": [
       "array([0., 0., 0., 0., 0., 0., 0., 0., 0., 0., 0., 0., 0., 0., 0., 0., 0.,\n",
       "       0., 0., 0., 0., 0., 0., 0., 0., 0., 0., 0., 0., 0., 0., 0., 0., 0.,\n",
       "       0., 0., 0., 0., 0., 0., 0., 0., 0., 0., 0., 0., 0., 0., 0., 0., 0.,\n",
       "       0., 0., 0., 0., 0., 0., 0., 0., 0., 0., 0., 0., 0., 0., 0., 0., 0.,\n",
       "       0., 0., 0., 0., 0., 0., 0., 0., 0., 0., 0., 0., 0., 0., 0., 0., 0.,\n",
       "       0., 0., 0., 0., 0., 0., 0., 0., 0., 0., 0., 0., 0., 0., 0., 0., 0.,\n",
       "       0., 0., 0., 0., 0., 0., 0., 0., 0., 0., 0., 0., 0., 0., 0., 0., 0.,\n",
       "       0., 0., 0., 0., 0., 0., 0., 0., 0.], dtype=float32)"
      ]
     },
     "execution_count": 40,
     "metadata": {},
     "output_type": "execute_result"
    }
   ],
   "source": [
    "res = b.asnumpy() + a.asnumpy() - c.asnumpy()\n",
    "res"
   ]
  },
  {
   "cell_type": "code",
   "execution_count": null,
   "metadata": {},
   "outputs": [],
   "source": []
  }
 ],
 "metadata": {
  "kernelspec": {
   "display_name": "Python 3.10.6 ('base')",
   "language": "python",
   "name": "python3"
  },
  "language_info": {
   "codemirror_mode": {
    "name": "ipython",
    "version": 3
   },
   "file_extension": ".py",
   "mimetype": "text/x-python",
   "name": "python",
   "nbconvert_exporter": "python",
   "pygments_lexer": "ipython3",
   "version": "3.10.8"
  },
  "orig_nbformat": 4,
  "vscode": {
   "interpreter": {
    "hash": "1082c47d0cc768e78b2fafe6fb82031f0ef649fe2be17ed77a3652f892e34dd5"
   }
  }
 },
 "nbformat": 4,
 "nbformat_minor": 2
}
