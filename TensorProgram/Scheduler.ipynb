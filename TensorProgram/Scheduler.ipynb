{
 "cells": [
  {
   "cell_type": "code",
   "execution_count": 9,
   "metadata": {},
   "outputs": [],
   "source": [
    "import tvm\n",
    "import tvm.testing\n",
    "from tvm import te\n",
    "import numpy as np\n",
    "\n",
    "# 全局环境定义\n",
    "\n",
    "tgt_host = \"llvm\"\n",
    "# 如果启用了GPU，则将其更改为相应的GPU，例如：cuda、opencl、rocm\n",
    "tgt = \"cuda\""
   ]
  },
  {
   "cell_type": "code",
   "execution_count": 10,
   "metadata": {},
   "outputs": [
    {
     "name": "stdout",
     "output_type": "stream",
     "text": [
      "<class 'tvm.te.tensor.Tensor'>\n"
     ]
    }
   ],
   "source": [
    "n = te.var(\"n\")\n",
    "A = te.placeholder((n,), name=\"A\")\n",
    "B = te.placeholder((n,), name=\"B\")\n",
    "C = te.compute(A.shape, lambda i: A[i] + B[i], name=\"C\")\n",
    "print(type(C))"
   ]
  },
  {
   "cell_type": "code",
   "execution_count": 26,
   "metadata": {},
   "outputs": [],
   "source": [
    "s = te.create_schedule(C.op)\n",
    "# block_c = s.get_block(\"C\")\n",
    "# i, = s.get_loops(block_c)\n",
    "bx, tx = s[C].split(C.op.axis[0], factor=64)"
   ]
  },
  {
   "cell_type": "code",
   "execution_count": 12,
   "metadata": {},
   "outputs": [],
   "source": [
    "# if tgt == \"cuda\" or tgt == \"rocm\" or tgt.startswith(\"opencl\"):\n",
    "    # s[C].bind(bx, te.thread_axis(\"blockIdx.x\"))\n",
    "    # s[C].bind(tx, te.thread_axis(\"threadIdx.x\"))"
   ]
  },
  {
   "cell_type": "code",
   "execution_count": 13,
   "metadata": {},
   "outputs": [],
   "source": [
    "fadd = tvm.build(s, [A, B, C], target_host=tgt_host, name=\"myadd\")"
   ]
  },
  {
   "cell_type": "code",
   "execution_count": 15,
   "metadata": {},
   "outputs": [],
   "source": [
    "# ctx = tvm.context(tgt, 0)\n",
    "\n",
    "n = 1024\n",
    "# a = tvm.nd.array(np.random.uniform(size=n).astype(A.dtype), ctx)\n",
    "# b = tvm.nd.array(np.random.uniform(size=n).astype(B.dtype), ctx)\n",
    "# c = tvm.nd.array(np.zeros(n, dtype=C.dtype), ctx)\n",
    "a = tvm.nd.array(np.random.uniform(size=n).astype(A.dtype))\n",
    "b = tvm.nd.array(np.random.uniform(size=n).astype(B.dtype))\n",
    "c = tvm.nd.array(np.zeros(n, dtype=C.dtype))\n",
    "fadd(a, b, c)\n",
    "tvm.testing.assert_allclose(c.asnumpy(), a.asnumpy() + b.asnumpy())"
   ]
  },
  {
   "cell_type": "code",
   "execution_count": null,
   "metadata": {},
   "outputs": [],
   "source": [
    "\n",
    "print(fadd.get_source)\n"
   ]
  },
  {
   "cell_type": "code",
   "execution_count": null,
   "metadata": {},
   "outputs": [],
   "source": []
  }
 ],
 "metadata": {
  "kernelspec": {
   "display_name": "Python 3.10.8 ('base')",
   "language": "python",
   "name": "python3"
  },
  "language_info": {
   "codemirror_mode": {
    "name": "ipython",
    "version": 3
   },
   "file_extension": ".py",
   "mimetype": "text/x-python",
   "name": "python",
   "nbconvert_exporter": "python",
   "pygments_lexer": "ipython3",
   "version": "3.10.8"
  },
  "orig_nbformat": 4,
  "vscode": {
   "interpreter": {
    "hash": "1082c47d0cc768e78b2fafe6fb82031f0ef649fe2be17ed77a3652f892e34dd5"
   }
  }
 },
 "nbformat": 4,
 "nbformat_minor": 2
}
